{
  "cells": [
    {
      "cell_type": "markdown",
      "metadata": {
        "id": "TUMlYqj3oKCC"
      },
      "source": [
        "## Лабораторна робота №2: \"Імплементація алгоритмів стиснення\"\n",
        "\n",
        "Склад команди та розподіл виконаних завдань:\n",
        "\n",
        "- Котлярчуа Оксана (Lz77, Deflate)\n",
        "- Сампара Софія (Lzw, Huffman)\n",
        "\n",
        "Для кожного з алгоритмів поданих нижче\n",
        "- опишіть як працює алгорит\n",
        "- напишіть класи з методами encode та decode\n",
        "- перевірте правильність кодування та декодування\n",
        "- дослідіть час виконання коду в залежності від розмірів вхідних даних\n",
        "- оцініть ступінь стиснення(у відсотка) в залежності від розмірів\n",
        "- напишіть висновок про ефективність різних алгоритмів та умови за яких той чи інший алгоритм дають кращий результат"
      ]
    },
    {
      "cell_type": "markdown",
      "metadata": {
        "id": "q7FpJG25oNzA"
      },
      "source": [
        "# Алгоритм Гаффмана\n",
        "\n",
        "В цьому алгоритмі доцільно імплементувати клас node та додаткові функції в Huffman для побудови дерева кодування"
      ]
    },
    {
      "cell_type": "code",
      "execution_count": 1,
      "metadata": {
        "id": "5fHzFB9gh7c2"
      },
      "outputs": [],
      "source": [
        "import heapq\n",
        "from collections import Counter\n",
        "\n",
        "class Node:\n",
        "    def __init__(self, char=None, frequency=None):\n",
        "        self.char = char\n",
        "        self.frequency = frequency\n",
        "        self.left = None\n",
        "        self.right = None\n",
        "\n",
        "    def __lt__(self, other):\n",
        "        return self.frequency < other.frequency\n",
        "\n",
        "class Huffman:\n",
        "    @classmethod\n",
        "    def encode(cls, text: str) -> tuple[str, dict[str, str]]:\n",
        "        if not text:\n",
        "            return None\n",
        "\n",
        "        root = cls.build_tree(text)\n",
        "        codes = cls.build_codes(root)\n",
        "\n",
        "        encoded_text = ''.join(codes[char] for char in text)\n",
        "        return encoded_text, codes\n",
        "\n",
        "    @staticmethod\n",
        "    def build_tree(text):\n",
        "        char_frequency = Counter(text)\n",
        "        heap = [Node(char, freq) for char, freq in char_frequency.items()]\n",
        "        heapq.heapify(heap)\n",
        "\n",
        "        while len(heap) > 1:\n",
        "            left_child = heapq.heappop(heap)\n",
        "            right_child = heapq.heappop(heap)\n",
        "\n",
        "            internal_node = Node(frequency=left_child.frequency + right_child.frequency)\n",
        "            internal_node.left = left_child\n",
        "            internal_node.right = right_child\n",
        "\n",
        "            heapq.heappush(heap, internal_node)\n",
        "\n",
        "        return heap[0]\n",
        "\n",
        "    @classmethod\n",
        "    def build_codes(cls, root, current_code=\"\", codes=None):\n",
        "        if codes is None:\n",
        "            codes = {}\n",
        "        if root is not None:\n",
        "            if root.char is not None:\n",
        "                codes[root.char] = current_code\n",
        "            cls.build_codes(root.left, current_code + \"0\", codes)\n",
        "            cls.build_codes(root.right, current_code + \"1\", codes)\n",
        "        return codes\n",
        "\n",
        "    @staticmethod\n",
        "    def decode(code: str, coding_dict: dict[str, str]):\n",
        "        if not code or not coding_dict:\n",
        "            return None\n",
        "\n",
        "        reverse_codes = {code_word: char for char, code_word in coding_dict.items()}\n",
        "        current_code = \"\"\n",
        "        decoded_text = \"\"\n",
        "\n",
        "        for bit in code:\n",
        "            current_code += bit\n",
        "            if current_code in reverse_codes:\n",
        "                decoded_text += reverse_codes[current_code]\n",
        "                current_code = \"\"\n",
        "\n",
        "        return decoded_text\n"
      ]
    },
    {
      "cell_type": "markdown",
      "metadata": {},
      "source": [
        "Як працює\n",
        "Функція encode:\n",
        "На вхід приймає текст, який потрібно закодувати. Знаходимо корінь дерева Гаффмана (функція build_tree), щоб побудувати коди.\n",
        "Тоді, маючи дані про корінь, можемо побудувати самі кодові комбінації (функція build_codes). Функція повертає рядок із закодованим текстом\n",
        "і словник усіх комбінацій.\n",
        "\n",
        "Функція build_tree:\n",
        "Функція приймає текст, який ми хочемо закодувати. Вона рахує частоту появи кожного символа у тексті (з допомогою collections.counter),\n",
        "створює список з вершин (екзкмпляри класу Node) та сортує їх за ймовірностями (за допомогою heapq). Далі функція бере дві вершини \n",
        "з найменшою ймовірністю (видаляє їх з heap), додає в heap нову вершину з сумою ймовірностей найменших (якій присвоює правого і лівого сина). Так продовжується, доки ми не побудуємо дерево і в heap не залишиться єдина вершина з ймовірністю 1. Функція повертає цю вершину.\n",
        "\n",
        "Функція build_codes:\n",
        "Приймає корінь, який повернула функція build_tree. Заходить в нього та надає значання її синам (правому сину 0, а лівому 1). Якщо у вершини є символ, який ми хочемо закодувати (тобто вона є листком), тоді додаємо до словника кодів цей символ і його код. Повертає функція словник з символів і йхнього коду.\n",
        "\n",
        "Функція decode:\n",
        "Приймає закодований текст та словник. Ходить по тексту, \"назбируючи\" символи, поки не наткнеться на послідовність, яка є в словнику. Коли знаходить (наш код є роздільним, тому немає плутанини), додає символ, що відповідає цьому коду до декодованого тексту. "
      ]
    },
    {
      "cell_type": "markdown",
      "metadata": {
        "id": "6_0LIrbWoQxo"
      },
      "source": [
        "# Алгоритм LZW"
      ]
    },
    {
      "cell_type": "code",
      "execution_count": 2,
      "metadata": {
        "id": "ogew0FkaoUNS"
      },
      "outputs": [],
      "source": [
        "'''LZW algorithm encoding and decoding'''\n",
        "class LZW:\n",
        "    '''LZW algorithm encoding and decoding'''\n",
        "    @staticmethod    \n",
        "    def encode(text: str) -> tuple[str, list]:\n",
        "        '''Encode a string message'''        \n",
        "        encoded_message = ''\n",
        "        output_dict = list(set(text))        \n",
        "        list_of_codes = list(set(text))\n",
        "        current_str = text[0]        \n",
        "        for char in text[1:]:\n",
        "            new_str = current_str + char            \n",
        "            if new_str in list_of_codes:\n",
        "                current_str = new_str            \n",
        "            else:\n",
        "                encoded_message += str(list_of_codes.index(current_str)) + ','                \n",
        "                list_of_codes.append(new_str)\n",
        "                current_str = char        \n",
        "                encoded_message += str(list_of_codes.index(current_str))\n",
        "        return encoded_message, output_dict\n",
        "\n",
        "    @staticmethod    \n",
        "    def decode(code: str, coding_dict: list) -> str:\n",
        "        '''Decode a message'''        \n",
        "        result = \"\"\n",
        "        encoded_message = code.split(',')        \n",
        "        current_code = int(encoded_message[0])\n",
        "        result += coding_dict[current_code]        \n",
        "        for code in encoded_message[1:]:\n",
        "            code = int(code)            \n",
        "            if code < len(coding_dict):\n",
        "                entry = coding_dict[code]            \n",
        "            else:\n",
        "                entry = coding_dict[current_code] + coding_dict[current_code][0]            \n",
        "                result += entry\n",
        "            coding_dict.append(coding_dict[current_code] + entry[0])            \n",
        "            current_code = code\n",
        "        return result"
      ]
    },
    {
      "cell_type": "markdown",
      "metadata": {},
      "source": [
        "LZW алгоритм\n",
        "Функція encode:\n",
        "Приймає текст, який потрібно закодувати. Переглядає текст і формує два словники (списки) з унікальних елементів (один з них потім поверне декодеру, а інший буде генерувати натупні коди). Далі беремо перший символ і наступний, якщо такої послідовності нема, то додаємо її до словника і в вихідний код додаємо індекс першого елементу. Якщо ж така комбвнація вже є у словнику, то беремо ще наступний символ, дивимося, чи така послідовність є у словнику, якщо ні, додаємо її до словника і в вихідний код додаємо індекс першого елементу + другий. Так робимо до кінця рядка, аде всі індекси розділяємо комами. Повертає функція закодоване повідомлення та початковий словник.\n",
        "\n",
        "Фуекція decode:\n",
        "Приймає закодоване повідомлення та початковий словник. Починаємо декодування розбивши рядок code за комами, щоб отримати список індексів. Початкове кодоване значення береться з першого елементу закодованого повідомлення і використовується для отримання його символу з coding_dict. Цей символ додається до вихідного рядка. Далі проходимо по решті кодованих значень у рядку. Для кожного індекса перевіряємо, чи є він менше, ніж довжина coding_dict. Якщо так, ми беремо відповідний символ із coding_dict. Якщо ні, то ми створюємо новий символ, використовуючи інформацію про попередній символ із coding_dict, а саме, додаємо до нього його перший символ. Цей новий символ додаємо до вихідного рядка. Після цього новий символ додається до coding_dict як комбінація попереднього символу із coding_dict та його першого символу, що дозволяє побудувати новий символ для наступного коду. Останній код стає поточним кодом для майбутніх ітерацій. Функція повертає рядок як декодоване повідомлення."
      ]
    },
    {
      "cell_type": "markdown",
      "metadata": {
        "id": "eETQbkkDoTDc"
      },
      "source": [
        "# Алгоритм LZ77\n",
        "\n",
        "Потрібно заміряти розміри саме тексту, проте для роботи доцільно використовувати список тюплів, тому для зручності варто імплементувати додаткові алгоритми _text2list та _list2text"
      ]
    },
    {
      "cell_type": "code",
      "execution_count": 3,
      "metadata": {
        "id": "Mu1A0QS2oaOF"
      },
      "outputs": [],
      "source": [
        "class LZ77:\n",
        "    def __init__(self, buffer_size: int):\n",
        "        self.buffer_len = buffer_size\n",
        "\n",
        "    def encode(self, text: str) -> str:\n",
        "        accepted = ''\n",
        "        res = []\n",
        "        for idx, el in enumerate(text):\n",
        "            buff_strt = idx-self.buffer_len if idx-self.buffer_len > 0 else 0\n",
        "            if el in text[buff_strt:idx] and accepted+el in text[:idx]:\n",
        "                accepted += el\n",
        "            else:\n",
        "                first_id = idx - len(accepted) - text[:idx-1].rfind(accepted) if accepted else 0\n",
        "                not_acc = el\n",
        "                res.append((first_id, len(accepted), not_acc))\n",
        "                accepted = ''\n",
        "            if idx == len(text) - 1 and accepted:\n",
        "                res.append((first_id, len(accepted), ''))\n",
        "        return self._list2text(res)\n",
        "\n",
        "    def decode(self, code: str) -> str:\n",
        "        code = self._text2list(code)\n",
        "        msg = ''\n",
        "        for idx, num, add in code:\n",
        "            for _ in range(num):\n",
        "                msg += msg[-idx]\n",
        "            msg += add\n",
        "        return msg\n",
        "    \n",
        "    @staticmethod\n",
        "    def _text2list(text):\n",
        "        res = []\n",
        "        codes = text[1:-1].split('>, <')\n",
        "        for code in codes:\n",
        "            res.append(tuple(code.split(', ')))\n",
        "        return res\n",
        "\n",
        "    @staticmethod\n",
        "    def _list2text(lst):\n",
        "        res = ''\n",
        "        for idx, tupl in enumerate(lst):\n",
        "            res += f'<{tupl[0]}, {tupl[1]}, {tupl[2]}>'\n",
        "            if idx != len(lst)-1:\n",
        "                res+=', '\n",
        "        return res"
      ]
    },
    {
      "cell_type": "markdown",
      "metadata": {},
      "source": [
        "Як працює:\n",
        "\n",
        "Функція encode:\n",
        "Проходиться по кожному елементу тексту. Перевіряє, чи є цей елемент у буфері, а також, чи є він у послідовності (якщо елементи, що йшли перед ним були прийняті). Після того, як знайшовся елемент, якого в буфері немає задаються змінні first_id- індекс першого входження та not_acc - елемент, який не зустрічався в буфері\n",
        "Результат повертається у вигляді (індекс, довжина accepted, неприйнятий елемент). Також є додаткова перевірка для останнього елементу, якщо він увійшов до буфера. Результат податися у вигляді тексту за допомогою методу _list2text.\n",
        "\n",
        "Метод _list2text:\n",
        "Перебирає кожен кортеж у списку і надає йому вигляд стрічки, обмеженої \"<>\"\n",
        "\n",
        "Функція decode:\n",
        "Переводить текст у список таплів за допомогою методу _text2list.\n",
        "Додає елемент з від'ємним індексом, який відповідає вказаному стільки разів, скільки вказує 2 елемент кортежу і вінці додає 3 елемент.\n",
        "\n",
        "Метод _text2list:\n",
        "Розділяє всі конструкції по стрілках і об'єднає отримані елементи в кортежі по 3."
      ]
    },
    {
      "cell_type": "markdown",
      "metadata": {
        "id": "bz-B5jWroghO"
      },
      "source": [
        "# Алгоритм Deflate"
      ]
    },
    {
      "cell_type": "code",
      "execution_count": null,
      "metadata": {},
      "outputs": [],
      "source": [
        "class Deflate:\n",
        "    def __init__(self, buffer_size: int):\n",
        "        self.buffer = buffer_size\n",
        "        self.dictionary = {}\n",
        "\n",
        "    def encode(self, text: str) -> str:\n",
        "        # lz77 = LZ77(self.buffer)\n",
        "        # lz77_coded = LZ77._text2list(lz77.encode(text))\n",
        "        # self.indexes = [(code[0], code[1]) for code in lz77_coded]\n",
        "        # code_to_use = ''.join([code[2] for code in lz77_coded])\n",
        "        # encoded_text, code_dict = Huffman.encode(code_to_use)\n",
        "        # self.dictionary = code_dict\n",
        "\n",
        "        # return encoded_text\n",
        "        lz77 = LZ77(self.buffer)\n",
        "        lz77_coded = lz77.encode(text)\n",
        "\n",
        "        encoded_text, code_dict = Huffman.encode(lz77_coded)\n",
        "        self.dictionary = code_dict\n",
        "\n",
        "        return encoded_text\n",
        "        \n",
        "\n",
        "    def decode(self, code: str) -> str:\n",
        "        \n",
        "\n",
        "        decoded_by_h = Huffman.decode(code, self.dictionary)\n",
        "        # decoded_by_h = ''.join([a for a in decoded_by_h if a.isalpha()])\n",
        "        # result = []\n",
        "        # for idx, char in enumerate(decoded_by_h):\n",
        "        #     result.append((int(self.indexes[idx][0]), int(self.indexes[idx][1]), char))\n",
        "    \n",
        "        lz77_decoder = LZ77(self.buffer)\n",
        "        lz77_decoded_text = lz77_decoder.decode(decoded_by_h)\n",
        "\n",
        "        return lz77_decoded_text\n"
      ]
    },
    {
      "cell_type": "markdown",
      "metadata": {},
      "source": [
        "Як працює:\n",
        "\n",
        "В init зберігається допоміжна інформація для розкодування. \n",
        "\n",
        "Функція encode:\n",
        "Спершу функція стискає текст за допомогою lz77, а тоді закодовує отриманий код методом Гаффмана, як текст. Словник для Гаффмана зберігається в init.\n",
        "\n",
        "Функція decode:\n",
        "За допомогою функції Huffman.decode() текст розкодовується до вигляду коду lz77 і далі розкодовується в класі LZ77."
      ]
    },
    {
      "cell_type": "markdown",
      "metadata": {},
      "source": [
        "Перевірка часу виконання та ступеня стиснення:"
      ]
    },
    {
      "cell_type": "code",
      "execution_count": 1,
      "metadata": {},
      "outputs": [],
      "source": [
        "import time"
      ]
    },
    {
      "cell_type": "code",
      "execution_count": 2,
      "metadata": {},
      "outputs": [],
      "source": [
        "\n",
        "time_to_encode_huffman = []\n",
        "time_to_decode_huffman = []\n",
        "time_to_encode_lzw = []\n",
        "time_to_decode_lzw = []\n",
        "time_to_encode_lz77 = []\n",
        "time_to_decode_lz77 = []\n"
      ]
    },
    {
      "cell_type": "code",
      "execution_count": 3,
      "metadata": {},
      "outputs": [],
      "source": [
        "import random\n",
        "import string\n",
        "letters = string.ascii_letters"
      ]
    },
    {
      "cell_type": "code",
      "execution_count": null,
      "metadata": {},
      "outputs": [],
      "source": [
        "print('Huffman algorithm')\n",
        "for num in [5000, 50000, 200000, 500000, 1000000, 2000000]:\n",
        "    text = ''.join(random.choice(letters) for i in range(num))\n",
        "    start = time.time()\n",
        "    encoded_text, dictionary = Huffman.encode(text)\n",
        "    end = time.time()\n",
        "    encoding_time = end - start\n",
        "    len_of_encoded_text = len(encoded_text)\n",
        "    time_to_encode_huffman.append(encoding_time)\n",
        "    start = time.time()\n",
        "    decoded_text = Huffman.decode(encoded_text, dictionary)\n",
        "    end = time.time()\n",
        "    decoding_time = end - start\n",
        "    time_to_decode_huffman.append(decoding_time)\n",
        "    print(f'Time to encode text with {num} symbols needs {encoding_time}')\n",
        "    print(f'Time to decode text with {num} symbols needs {decoding_time}')\n",
        "    print(f'The percentage of text enlargement is {len(encoded_text)/(num/100)}%')\n"
      ]
    },
    {
      "cell_type": "code",
      "execution_count": null,
      "metadata": {},
      "outputs": [
        {
          "name": "stdout",
          "output_type": "stream",
          "text": [
            "LZW algorithm\n",
            "Time to encode text with 5000 symbols needs 0.10303378105163574\n",
            "Time to decode text with 5000 symbols needs 0.0010001659393310547\n",
            "The percentage of text enlargement is 242.0%\n",
            "Time to encode text with 50000 symbols needs 4.345434904098511\n",
            "Time to decode text with 50000 symbols needs 0.010070562362670898\n",
            "The percentage of text enlargement is 231.122%\n",
            "Time to encode text with 200000 symbols needs 59.84237599372864\n",
            "Time to decode text with 200000 symbols needs 0.03352808952331543\n",
            "The percentage of text enlargement is 221.743%\n",
            "Time to encode text with 500000 symbols needs 465.5066020488739\n",
            "Time to decode text with 500000 symbols needs 0.10028433799743652\n",
            "The percentage of text enlargement is 216.3226%\n"
          ]
        }
      ],
      "source": [
        "print('LZW algorithm')\n",
        "for num in [5000, 50000, 200000, 500000]:\n",
        "    text = ''.join(random.choice(letters) for i in range(num))\n",
        "    start = time.time()\n",
        "    encoded_text, dictionary = LZW.encode(text)\n",
        "    end = time.time()\n",
        "    encoding_time = end - start\n",
        "    len_of_encoded_text = len(encoded_text)\n",
        "    time_to_encode_lzw.append(encoding_time)\n",
        "    start = time.time()\n",
        "    decoded_text = LZW.decode(encoded_text, dictionary)\n",
        "    end = time.time()\n",
        "    decoding_time = end - start\n",
        "    time_to_decode_lzw.append(decoding_time)\n",
        "    print(f'Time to encode text with {num} symbols needs {encoding_time}')\n",
        "    print(f'Time to decode text with {num} symbols needs {decoding_time}')\n",
        "    print(f'The percentage of text enlargement is {len(encoded_text)/(num/100)}%')"
      ]
    },
    {
      "cell_type": "code",
      "execution_count": null,
      "metadata": {},
      "outputs": [
        {
          "name": "stdout",
          "output_type": "stream",
          "text": [
            "LZ77 algorithm\n",
            "Time to encode text with 5000 symbols needs 0.03778958320617676\n",
            "Time to decode text with 5000 symbols needs 0.0013737678527832031\n",
            "The percentage of text enlargement is 90.94%\n",
            "Time to encode text with 50000 symbols needs 0.025136947631835938\n",
            "Time to decode text with 50000 symbols needs 0.013870954513549805\n",
            "The percentage of text enlargement is 90.796%\n",
            "Time to encode text with 200000 symbols needs 0.14241576194763184\n",
            "Time to decode text with 200000 symbols needs 0.031935691833496094\n",
            "The percentage of text enlargement is 90.8165%\n",
            "Time to encode text with 500000 symbols needs 0.667088508605957\n",
            "Time to decode text with 500000 symbols needs 0.08844470977783203\n",
            "The percentage of text enlargement is 90.7614%\n",
            "Time to encode text with 1000000 symbols needs 3.722883462905884\n",
            "Time to decode text with 1000000 symbols needs 0.14888358116149902\n",
            "The percentage of text enlargement is 90.7649%\n",
            "Time to encode text with 2000000 symbols needs 68.04177522659302\n",
            "Time to decode text with 2000000 symbols needs 0.8689332008361816\n",
            "The percentage of text enlargement is 90.79855%\n"
          ]
        }
      ],
      "source": [
        "print('LZ77 algorithm')\n",
        "for num in [5000, 50000, 200000, 500000, 1000000, 2000000]:\n",
        "    text = ''.join(random.choice(letters) for i in range(num))\n",
        "    example = LZ77(5)\n",
        "    start = time.time()\n",
        "    encoded_text = example.encode(text)\n",
        "    end = time.time()\n",
        "    encoding_time = end - start\n",
        "    # len_of_encoded_text = len(str(encoded_text))\n",
        "    time_to_encode_lz77.append(encoding_time)\n",
        "    start = time.time()\n",
        "    decoded_text = example.decode(encoded_text)\n",
        "    end = time.time()\n",
        "    decoding_time = end - start\n",
        "    time_to_decode_lz77.append(decoding_time)\n",
        "    print(f'Time to encode text with {num} symbols needs {encoding_time}')\n",
        "    print(f'Time to decode text with {num} symbols needs {decoding_time}')\n",
        "    print(f'The percentage of text enlargement is {len(encoded_text)/(num/100)}%')"
      ]
    },
    {
      "cell_type": "code",
      "execution_count": null,
      "metadata": {},
      "outputs": [
        {
          "name": "stdout",
          "output_type": "stream",
          "text": [
            "[0.0, 0.008010625839233398, 0.010821104049682617, 0.014934301376342773, 0.0010008811950683594, 0.018041610717773438, 0.017014026641845703, 0.05298161506652832, 0.10045671463012695, 0.19991183280944824]\n",
            "[0.0912322998046875, 4.12848424911499, 58.84739398956299, 0.10303378105163574, 4.345434904098511, 59.84237599372864, 465.5066020488739]\n",
            "[0.0076596736907958984, 0.06651973724365234, 0.15337014198303223, 0.7150900363922119, 0.022713422775268555, 0.029793739318847656, 0.16904640197753906, 0.7147746086120605, 3.835102081298828, 0.038309335708618164, 0.023662090301513672, 0.1459367275238037, 0.64626145362854, 3.862281560897827, 0.03778958320617676, 0.025136947631835938, 0.14241576194763184, 0.667088508605957, 3.722883462905884, 68.04177522659302]\n",
            "[0.001239776611328125, 0.008290767669677734, 0.021442651748657227, 0.05210161209106445, 0.012144804000854492, 0.03007817268371582, 0.11458945274353027, 0.2605116367340088, 0.5108425617218018, 1.1489908695220947]\n",
            "[0.0, 0.016587495803833008, 0.03292226791381836, 0.0010001659393310547, 0.010070562362670898, 0.03352808952331543, 0.10028433799743652]\n",
            "[0.002094745635986328, 0.011833429336547852, 0.03940701484680176, 0.0832674503326416, 0.0009992122650146484, 0.0013203620910644531, 0.029667377471923828, 0.08257269859313965, 0.17124581336975098, 0.0019598007202148438, 0.0066416263580322266, 0.03334236145019531, 0.09618258476257324, 0.1669628620147705, 0.0013737678527832031, 0.013870954513549805, 0.031935691833496094, 0.08844470977783203, 0.14888358116149902, 0.8689332008361816]\n"
          ]
        }
      ],
      "source": [
        "print(time_to_encode_huffman)\n",
        "print(time_to_encode_lzw)\n",
        "print(time_to_encode_lz77)\n",
        "print(time_to_decode_huffman)\n",
        "print(time_to_decode_lzw)\n",
        "print(time_to_decode_lz77)"
      ]
    },
    {
      "cell_type": "markdown",
      "metadata": {},
      "source": [
        "Графік порівняння залежності часу закодування від кількості символів у тексті:\n"
      ]
    },
    {
      "cell_type": "code",
      "execution_count": null,
      "metadata": {},
      "outputs": [],
      "source": [
        "import matplotlib as plt\n",
        "\n",
        "plt.plot([5000, 50000, 200000, 500000, 1000000, 2000000], time_to_encode_lz77, label='Lz77')\n",
        "plt.plot([5000, 50000, 200000, 500000, 1000000, 2000000], time_to_encode_huffman, label='Huffman')\n",
        "plt.plot([5000, 50000, 200000, 500000], time_to_encode_lzw, label='Lzw')\n",
        "\n",
        "plt.show()\n"
      ]
    },
    {
      "cell_type": "markdown",
      "metadata": {},
      "source": [
        "Графік порівняння залежності часу розкодування від кількості символів у тексті:\n"
      ]
    },
    {
      "cell_type": "code",
      "execution_count": null,
      "metadata": {},
      "outputs": [],
      "source": [
        "\n",
        "plt.plot([5000, 50000, 200000, 500000, 1000000, 2000000], time_to_decode_lz77, label='Lz77')\n",
        "plt.plot([5000, 50000, 200000, 500000, 1000000, 2000000], time_to_decode_huffman, label='Huffman')\n",
        "plt.plot([5000, 50000, 200000, 500000], time_to_decode_lzw, label='Lzw')\n",
        "\n",
        "plt.show()"
      ]
    },
    {
      "cell_type": "markdown",
      "metadata": {},
      "source": [
        "Висновок:"
      ]
    },
    {
      "cell_type": "markdown",
      "metadata": {},
      "source": [
        "Алгоритм Гаффмана є алгоритмом алфавітного кодування, тобто закодована послідовність завжди буде більшою. Він найефективніше працює для текстів, в якій ймовірності появи символів є нерівномірними. Коли ж ймовірності майже одинакові, закодована послдовність стає значно довшою. \n",
        "Алгоритми Лемпеля-Зіва є алгоритмами стиску, тобто призначені для того, щоб зменшити розмір тексту. Алгоритм LZ77 кодує майже з одинаковою ефективність для різних даних, проте найкраще працює для повідомлень, в яких блоки повторюються. \n",
        "Алгоритм LZW найкраще працює для великих даних. Для малих повідомлень розмір стиснутого повідомлення стає більшим, але чим довший текст, тим ефективніше цей алгоритм його стискає. Алгоритм LZW, так як і LZ77 найкраще працює для текстів, у яких повторюються блоки."
      ]
    }
  ],
  "metadata": {
    "colab": {
      "provenance": []
    },
    "kernelspec": {
      "display_name": "Python 3",
      "name": "python3"
    },
    "language_info": {
      "codemirror_mode": {
        "name": "ipython",
        "version": 3
      },
      "file_extension": ".py",
      "mimetype": "text/x-python",
      "name": "python",
      "nbconvert_exporter": "python",
      "pygments_lexer": "ipython3",
      "version": "3.11.5"
    }
  },
  "nbformat": 4,
  "nbformat_minor": 0
}

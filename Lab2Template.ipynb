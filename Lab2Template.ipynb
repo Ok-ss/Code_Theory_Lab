{
  "cells": [
    {
      "cell_type": "markdown",
      "metadata": {
        "id": "TUMlYqj3oKCC"
      },
      "source": [
        "## Лабораторна робота №2: \"Імплементація алгоритмів стиснення\"\n",
        "\n",
        "Склад команди та розподіл виконаних завдань:\n",
        "\n",
        "-\n",
        "-\n",
        "\n",
        "Для кожного з алгоритмів поданих нижче\n",
        "- опишіть як працює алгорит\n",
        "- напишіть класи з методами encode та decode\n",
        "- перевірте правильність кодування та декодування\n",
        "- дослідіть час виконання коду в залежності від розмірів вхідних даних\n",
        "- оцініть ступінь стиснення(у відсотка) в залежності від розмірів\n",
        "- напишіть висновок про ефективність різних алгоритмів та умови за яких той чи інший алгоритм дають кращий результат"
      ]
    },
    {
      "cell_type": "markdown",
      "metadata": {
        "id": "q7FpJG25oNzA"
      },
      "source": [
        "# Алгоритм Гаффмана\n",
        "\n",
        "В цьому алгоритмі доцільно імплементувати клас node та додаткові функції в Huffman для побудови дерева кодування"
      ]
    },
    {
      "cell_type": "code",
      "execution_count": null,
      "metadata": {
        "id": "5fHzFB9gh7c2"
      },
      "outputs": [],
      "source": [
        "class Node:\n",
        "    def __init__(self, freq) -> None:\n",
        "        self.frequency = freq\n",
        "        self.left = None\n",
        "        self.right = None\n",
        "\n",
        "class Huffman:\n",
        "    def build_tree(self, text):\n",
        "        frequences = {letter:text.count(letter) for letter in text if letter not in frequences}\n",
        "        letters = sorted(list(frequences.keys()), key=lambda x: frequences[x], reverse=True)\n",
        "        letters = list(map(lambda x: Node(frequences[x]), letters))\n",
        "        while len(letters) > 1:\n",
        "            new_n = Node(letters[-1].frequency + letters[-2].frequency)\n",
        "            new_n.left\n",
        "            letters = letters[:-2] + []\n",
        "\n",
        "    def encode(self, text: str) -> tuple[str, dict[str, str]]:\n",
        "        pass\n",
        "\n",
        "\n",
        "\n",
        "    def decode(self, code: str, coding_dict: dict[str, str]):\n",
        "        pass\n",
        "\n",
        "message = 'aaeaaeaacdbadbbccdae'\n",
        "code = Huffman()\n",
        "print(code.encode(message))"
      ]
    },
    {
      "cell_type": "markdown",
      "metadata": {
        "id": "6_0LIrbWoQxo"
      },
      "source": [
        "# Алгоритм LZW"
      ]
    },
    {
      "cell_type": "code",
      "execution_count": null,
      "metadata": {
        "id": "ogew0FkaoUNS"
      },
      "outputs": [],
      "source": [
        "class LZW:\n",
        "    def encode(self, text: str) -> tuple[str, list]:\n",
        "        pass\n",
        "\n",
        "    def decode(self, code: str, coding_dict: list) -> str:\n",
        "        pass"
      ]
    },
    {
      "cell_type": "markdown",
      "metadata": {
        "id": "eETQbkkDoTDc"
      },
      "source": [
        "# Алгоритм LZ77\n",
        "\n",
        "Потрібно заміряти розміри саме тексту, проте для роботи доцільно використовувати список тюплів, тому для зручності варто імплементувати додаткові алгоритми _text2list та _list2text"
      ]
    },
    {
      "cell_type": "code",
      "execution_count": null,
      "metadata": {
        "id": "Mu1A0QS2oaOF"
      },
      "outputs": [],
      "source": [
        "class LZ77:\n",
        "    def __init__(self, buffer_size: int):\n",
        "        self.buffer_len = buffer_size\n",
        "\n",
        "    def encode(self, text: str) -> str:\n",
        "        accepted = ''\n",
        "        res = []\n",
        "        for idx, el in enumerate(text):\n",
        "            buff_strt = idx-self.buffer_len if idx-self.buffer_len > 0 else 0\n",
        "            if el in text[buff_strt:idx] and accepted+el in text[:idx]:\n",
        "                accepted += el\n",
        "\n",
        "            else:\n",
        "                first_id = idx - len(accepted) - text[:idx-1].rfind(accepted) if accepted else 0\n",
        "                # if not accepted:\n",
        "                #     first_id = 0\n",
        "                not_acc = el\n",
        "                res.append((first_id, len(accepted), not_acc))\n",
        "                accepted = ''\n",
        "            if idx == len(text) - 1 and accepted:\n",
        "                res.append((first_id, len(accepted), ''))\n",
        "        return res\n",
        "\n",
        "    def decode(self, code: str) -> str:\n",
        "        msg = ''\n",
        "        for idx, num, add in code:\n",
        "            for _ in range(num):\n",
        "                msg += msg[-idx]\n",
        "            msg += add\n",
        "        return msg"
      ]
    },
    {
      "cell_type": "markdown",
      "metadata": {
        "id": "bz-B5jWroghO"
      },
      "source": [
        "# Алгоритм Deflate"
      ]
    },
    {
      "cell_type": "code",
      "execution_count": null,
      "metadata": {
        "id": "ZAU57ZQtogOC"
      },
      "outputs": [],
      "source": [
        "class Deflate:\n",
        "    def __init__(self, buffer_size: int):\n",
        "        pass\n",
        "\n",
        "    def encode(self, text: str) -> str:\n",
        "        pass\n",
        "\n",
        "    def decode(self, code: str) -> str:\n",
        "        pass"
      ]
    }
  ],
  "metadata": {
    "colab": {
      "provenance": []
    },
    "kernelspec": {
      "display_name": "Python 3",
      "name": "python3"
    },
    "language_info": {
      "name": "python"
    }
  },
  "nbformat": 4,
  "nbformat_minor": 0
}
